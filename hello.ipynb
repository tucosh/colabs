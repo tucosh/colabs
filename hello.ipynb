{
 "cells": [
  {
   "cell_type": "code",
   "execution_count": 1,
   "id": "2a8578c4-2b87-479e-9284-013c66c38160",
   "metadata": {
    "execution": {
     "iopub.execute_input": "2025-08-27T00:18:35.227521Z",
     "iopub.status.busy": "2025-08-27T00:18:35.227110Z",
     "iopub.status.idle": "2025-08-27T00:18:35.235841Z",
     "shell.execute_reply": "2025-08-27T00:18:35.235077Z",
     "shell.execute_reply.started": "2025-08-27T00:18:35.227490Z"
    }
   },
   "outputs": [
    {
     "name": "stdout",
     "output_type": "stream",
     "text": [
      "hello!\n"
     ]
    }
   ],
   "source": [
    "print('hello!')"
   ]
  }
 ],
 "metadata": {
  "kernelspec": {
   "display_name": "Python 3 (ipykernel)",
   "language": "python",
   "name": "python3"
  },
  "language_info": {
   "codemirror_mode": {
    "name": "ipython",
    "version": 3
   },
   "file_extension": ".py",
   "mimetype": "text/x-python",
   "name": "python",
   "nbconvert_exporter": "python",
   "pygments_lexer": "ipython3",
   "version": "3.11.7"
  }
 },
 "nbformat": 4,
 "nbformat_minor": 5
}
